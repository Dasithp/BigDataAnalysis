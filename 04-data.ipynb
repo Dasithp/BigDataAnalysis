{
 "cells": [
  {
   "cell_type": "markdown",
   "metadata": {},
   "source": [
    "## Working with data\n",
    "### Based on python lessons from Mariela Perignon \n",
    "https://github.com/mperignon/python-lessons/\n",
    "\n",
    "One of the best options for working with tabular data in python is to use the Python Data Analysis Library (a.k.a. pandas). The Pandas library provides data structures, produces high quality plots with matplotlib and integrates nicely with other libraries that use NumPy (which is another Python library) arrays.\n",
    "\n",
    "We import the pandas library using the common nickname pd as below. (You can install pandas with `conda install pandas` on the command line)."
   ]
  },
  {
   "cell_type": "code",
   "execution_count": 2,
   "metadata": {
    "collapsed": false
   },
   "outputs": [],
   "source": [
    "import pandas as pd"
   ]
  },
  {
   "cell_type": "markdown",
   "metadata": {},
   "source": [
    "Imagine we are studying the species and weight of animals caught in plots in a study area. The data sets are stored in .csv (comma separated value) format. Within the .csv files, each row holds information for a single animal, and the columns represent: record_id, month, day, year, plot, species, sex, wgt.\n",
    "\n",
    "We want to:\n",
    "\n",
    "* Load the data into memory in Python.\n",
    "* Calculate some summary statistics about our data\n",
    "* Plot these statistics\n",
    "\n",
    "### Reading Data using pandas\n",
    "\n",
    "We will begin by downloading our survey data which are in CSV format. "
   ]
  },
  {
   "cell_type": "code",
   "execution_count": null,
   "metadata": {
    "collapsed": false
   },
   "outputs": [],
   "source": [
    "!curl -O https://raw.githubusercontent.com/mperignon/python-lessons/gh-pages/data/surveys.csv"
   ]
  },
  {
   "cell_type": "markdown",
   "metadata": {},
   "source": [
    "We can use Pandas read_csv function to pull the file directly into a DataFrame [http://pandas.pydata.org/pandas-docs/stable/dsintro.html#dataframe]. Because we have imported the whole pandas library we refer to the function by `LibraryName.FunctionName`. This is a fairly large dataset so we assign it to a variable."
   ]
  },
  {
   "cell_type": "code",
   "execution_count": null,
   "metadata": {
    "collapsed": false
   },
   "outputs": [],
   "source": [
    "survey_data = pd.read_csv('surveys.csv')"
   ]
  },
  {
   "cell_type": "markdown",
   "metadata": {},
   "source": [
    "Note that when you view a pandas dataframe it looks nice."
   ]
  },
  {
   "cell_type": "code",
   "execution_count": null,
   "metadata": {
    "collapsed": false
   },
   "outputs": [],
   "source": [
    "survey_data"
   ]
  },
  {
   "cell_type": "markdown",
   "metadata": {},
   "source": [
    "You can view both the type of the `survey_data` variable and the type of each variable inside it."
   ]
  },
  {
   "cell_type": "code",
   "execution_count": null,
   "metadata": {
    "collapsed": false
   },
   "outputs": [],
   "source": [
    "print(type(survey_data))\n",
    "print(survey_data.dtypes)"
   ]
  },
  {
   "cell_type": "markdown",
   "metadata": {},
   "source": [
    "The type method tell us that survey_data is `<class 'pandas.core.frame.DataFrame'>` (aka a pandas DataFrame). Int64 represents numeric integer values - int64 cells can not store decimals. Object represents strings (letters and numbers). Float64 represents numbers with decimals.\n",
    "\n",
    "Note that Pandas and Python use slightly different names for data types. \n",
    "\n",
    "| Pandas Type | Native Python Type | Description |\n",
    "|-------------|--------------------|-------------|\n",
    "| object | string | The most general dtype. Will be assigned to your column if column has mixed types (numbers and strings). |\n",
    "| int64  | int | Numeric characters. 64 refers to the memory allocated to hold this character. |\n",
    "| float64 | float | Numeric characters with decimals. If a column contains numbers and NaNs(see below), pandas will default to float64, in case your missing value has a decimal. |"
   ]
  },
  {
   "cell_type": "markdown",
   "metadata": {},
   "source": [
    "There are multiple methods that can be used to summarize and access the data stored in dataframes. Note that we call the method by using `ObjectName.method`. \n",
    "\n",
    "### Challenge\n",
    "#### Explore methods associated with a pandas dataframe. What do the following do?\n",
    "\n",
    "`ObjectName.columns`  \n",
    "`ObjectName.head()`  \n",
    "`ObjectName.head(15)`  \n",
    "`ObjectName.tail()`  \n",
    "`ObjectName.shape`  \n",
    "Take note of the output of the shape method. In what format does it return the shape of the DataFrame?\n",
    "\n",
    "### Calculating statistics in a pandas DataFrame\n",
    "\n",
    "We've read our data into Python. Now, let's perform some quick summary statistics to learn more about the data that we're working with. We might want to know how many animals were collected in each plot, or how many of each species were caught. We can perform summary stats quickly using groups. But first we need to figure out what we want to group by.\n",
    "\n",
    "Let's begin by exploring our data:\n"
   ]
  },
  {
   "cell_type": "code",
   "execution_count": null,
   "metadata": {
    "collapsed": false
   },
   "outputs": [],
   "source": [
    "survey_data.columns"
   ]
  },
  {
   "cell_type": "markdown",
   "metadata": {},
   "source": [
    "This gives us a pandas Index containing the column names. This is similar to a list, except you can't change it, and it has its own set of methods (we won't go into them, but you can check out the documentation for `pandas.Index`.\n",
    "\n",
    "We can get a list of the species using the `unique` function in the pandas library (remember we nicknamed it pd) applied to the `species` column of our data."
   ]
  },
  {
   "cell_type": "code",
   "execution_count": null,
   "metadata": {
    "collapsed": false
   },
   "outputs": [],
   "source": [
    "pd.unique(survey_data.species)"
   ]
  },
  {
   "cell_type": "markdown",
   "metadata": {},
   "source": [
    "Or we can use the `unique` method on a column of our dataset."
   ]
  },
  {
   "cell_type": "code",
   "execution_count": null,
   "metadata": {
    "collapsed": false
   },
   "outputs": [],
   "source": [
    "survey_data.species.unique()"
   ]
  },
  {
   "cell_type": "code",
   "execution_count": null,
   "metadata": {
    "collapsed": false
   },
   "outputs": [],
   "source": [
    "survey_data['species'].unique()"
   ]
  },
  {
   "cell_type": "markdown",
   "metadata": {},
   "source": [
    "Note that the output is a numpy array. NumPy is \"the fundamental package for scientific computing with Python\". A numpy array is an N-dimensional array object containing data of type `dtype`, where in this case `dtype` is object.\n",
    "\n",
    "### Groups in Pandas\n",
    "\n",
    "We are often be interested in calculating summary statistics grouped by subsets or attributes within fields of our data. For example, we can calculate the average weight of all samples, which we can do using the `describe` method on this column of our pandas dataframe."
   ]
  },
  {
   "cell_type": "code",
   "execution_count": null,
   "metadata": {
    "collapsed": false
   },
   "outputs": [],
   "source": [
    "survey_data['wgt'].describe()"
   ]
  },
  {
   "cell_type": "markdown",
   "metadata": {},
   "source": [
    "We can also calculate each specific metric separately:"
   ]
  },
  {
   "cell_type": "code",
   "execution_count": null,
   "metadata": {
    "collapsed": false
   },
   "outputs": [],
   "source": [
    "survey_data['wgt'].min()\n",
    "survey_data['wgt'].max()\n",
    "survey_data['wgt'].mean()\n",
    "survey_data['wgt'].std()\n",
    "survey_data['wgt'].count()"
   ]
  },
  {
   "cell_type": "markdown",
   "metadata": {},
   "source": [
    "If we want to summarize by one or more variables, as we did using `dplyr` in `R`, we use the .groupby method in pandas. Once we've created a groupby DataFrame, we can quickly calculate summary statistics by a group of our choice."
   ]
  },
  {
   "cell_type": "code",
   "execution_count": null,
   "metadata": {
    "collapsed": false
   },
   "outputs": [],
   "source": [
    "# Group data by sex\n",
    "survey_by_sex = survey_data.groupby('sex')\n",
    "# summary statistics for all numeric columns by sex\n",
    "survey_by_sex.describe()"
   ]
  },
  {
   "cell_type": "code",
   "execution_count": null,
   "metadata": {
    "collapsed": false
   },
   "outputs": [],
   "source": [
    "# provide the mean for each numeric column by sex\n",
    "survey_by_sex.mean()"
   ]
  },
  {
   "cell_type": "markdown",
   "metadata": {},
   "source": [
    "Note that you can string your calls to methods together as well, for example to get the mean of the data-grouped-by-sex."
   ]
  },
  {
   "cell_type": "code",
   "execution_count": null,
   "metadata": {
    "collapsed": false
   },
   "outputs": [],
   "source": [
    "survey_data.groupby('sex').mean()"
   ]
  },
  {
   "cell_type": "markdown",
   "metadata": {},
   "source": [
    "The groupby command is powerful in that it allows us to quickly generate summary stats. This is also useful for initial examination of our data. We can immediately notice some unusual values in our data that we might need to explore further. For example, unless we're working with butterflies, Z is unlikely to be a sex. Also, it looks like there are no weight values for the species that is of sex \"R\"."
   ]
  },
  {
   "cell_type": "markdown",
   "metadata": {},
   "source": [
    "### Challenge\n",
    "\n",
    "How many records contain the sex designations \"Z\", \"P\" and \"R\"?\n",
    "\n",
    "Group by `['plot','sex']` and take the mean. What happens?\n",
    "\n",
    "Get summary statistics for weight for each plot in your data."
   ]
  },
  {
   "cell_type": "code",
   "execution_count": null,
   "metadata": {
    "collapsed": true
   },
   "outputs": [],
   "source": [
    "#insert challenge answers here"
   ]
  },
  {
   "cell_type": "markdown",
   "metadata": {},
   "source": [
    "### Quickly Creating Summary Counts in Pandas\n",
    "\n",
    "Let's count the samples of each unique species that appear in our data. We can do this in a few ways. We'll use `groupby` combined with a `count()` method."
   ]
  },
  {
   "cell_type": "code",
   "execution_count": null,
   "metadata": {
    "collapsed": false
   },
   "outputs": [],
   "source": [
    "species_counts = survey_data.groupby('species').record_id.count()"
   ]
  },
  {
   "cell_type": "markdown",
   "metadata": {},
   "source": [
    "This returns a pandas Series, which \"is a one-dimensional labeled array capable of holding any data type\".\n",
    "If we just want to know about the species \"DO\", we can get this item out of our series as we did with a list, but this time we can access records by their labels."
   ]
  },
  {
   "cell_type": "code",
   "execution_count": null,
   "metadata": {
    "collapsed": false
   },
   "outputs": [],
   "source": [
    "survey_data.groupby('species').record_id.count()['DO']"
   ]
  },
  {
   "cell_type": "markdown",
   "metadata": {},
   "source": [
    "### Basic Math Functions\n",
    "\n",
    "We might be interested in performing a calculation on an entire column of our data. For example, we might need to convert between units or normalize the data according to a mean or the area."
   ]
  },
  {
   "cell_type": "code",
   "execution_count": null,
   "metadata": {
    "collapsed": false
   },
   "outputs": [],
   "source": [
    "# convert weight from grams to kilograms\n",
    "survey_data['wgt']*0.0001"
   ]
  },
  {
   "cell_type": "markdown",
   "metadata": {},
   "source": [
    "Here we use square brackets [] to select a subset of a Python dataframe (the wgt column), just like we did with a list.\n",
    "\n",
    "Note that this vector multiplication, which was standard in R, works on a pandas series, but would not work on a standard python list, even though you might be thinking about the series as a labeled list."
   ]
  },
  {
   "cell_type": "code",
   "execution_count": null,
   "metadata": {
    "collapsed": false
   },
   "outputs": [],
   "source": [
    "list(survey_data['wgt'])*0.0001"
   ]
  },
  {
   "cell_type": "markdown",
   "metadata": {},
   "source": [
    "Now let's plot our summary stats. We can use the pandas `plot` method."
   ]
  },
  {
   "cell_type": "code",
   "execution_count": 10,
   "metadata": {
    "collapsed": false
   },
   "outputs": [
    {
     "ename": "NameError",
     "evalue": "name 'species_counts' is not defined",
     "output_type": "error",
     "traceback": [
      "\u001b[0;31m---------------------------------------------------------------------------\u001b[0m",
      "\u001b[0;31mNameError\u001b[0m                                 Traceback (most recent call last)",
      "\u001b[0;32m<ipython-input-10-731aaae76227>\u001b[0m in \u001b[0;36m<module>\u001b[0;34m()\u001b[0m\n\u001b[1;32m      2\u001b[0m \u001b[0;34m\u001b[0m\u001b[0m\n\u001b[1;32m      3\u001b[0m \u001b[0;31m# create a bar chart of number of each species\u001b[0m\u001b[0;34m\u001b[0m\u001b[0;34m\u001b[0m\u001b[0m\n\u001b[0;32m----> 4\u001b[0;31m \u001b[0mspecies_counts\u001b[0m\u001b[0;34m.\u001b[0m\u001b[0mplot\u001b[0m\u001b[0;34m(\u001b[0m\u001b[0mkind\u001b[0m\u001b[0;34m=\u001b[0m\u001b[0;34m'bar'\u001b[0m\u001b[0;34m)\u001b[0m\u001b[0;34m\u001b[0m\u001b[0m\n\u001b[0m",
      "\u001b[0;31mNameError\u001b[0m: name 'species_counts' is not defined"
     ]
    }
   ],
   "source": [
    "% matplotlib inline\n",
    "\n",
    "# create a bar chart of number of each species\n",
    "species_counts.plot(kind='bar')"
   ]
  },
  {
   "cell_type": "markdown",
   "metadata": {},
   "source": [
    "We can also look at how many species of animals were captured in each plot. We take our data, group it by plot, get just the species series and count the number of unique elements in that series for each group. We use the method `nunique`, which returns the number of unique elements in the object (as opposed to what those unique elements are)."
   ]
  },
  {
   "cell_type": "code",
   "execution_count": null,
   "metadata": {
    "collapsed": false
   },
   "outputs": [],
   "source": [
    "sp_count=survey_data.groupby('plot').species.nunique()\n",
    "sp_count"
   ]
  },
  {
   "cell_type": "markdown",
   "metadata": {},
   "source": [
    "Let's plot that too"
   ]
  },
  {
   "cell_type": "code",
   "execution_count": null,
   "metadata": {
    "collapsed": false
   },
   "outputs": [],
   "source": [
    "sp_count.plot(kind='bar')"
   ]
  },
  {
   "cell_type": "markdown",
   "metadata": {},
   "source": [
    "### Challenge\n",
    "Plot the average weight of individuals in each plot."
   ]
  },
  {
   "cell_type": "code",
   "execution_count": null,
   "metadata": {
    "collapsed": false
   },
   "outputs": [],
   "source": [
    "weight=survey_data.groupby('plot').wgt.mean()\n",
    "weight.plot(kind='bar')"
   ]
  },
  {
   "cell_type": "markdown",
   "metadata": {},
   "source": [
    "If we're comparing proportions (e.g. number of each species) we might want a stacked bar plot. We need to group by species as well as plot, get our variable, and calculate the statistic for each group. Passing `as_index=False` will return the groups that you are aggregating over, if they are named columns."
   ]
  },
  {
   "cell_type": "code",
   "execution_count": null,
   "metadata": {
    "collapsed": false
   },
   "outputs": [],
   "source": [
    "sp_plot=survey_data.groupby(['species','plot'], as_index=False).record_id.count()\n",
    "sp_plot"
   ]
  },
  {
   "cell_type": "markdown",
   "metadata": {},
   "source": [
    "This puts the data in what we were calling \"long\" form in R. It turns out that we need the data in \"wide\" form for the plot method of pandas. To reshape the data use the pivot function."
   ]
  },
  {
   "cell_type": "code",
   "execution_count": null,
   "metadata": {
    "collapsed": false
   },
   "outputs": [],
   "source": [
    "sp_plot=sp_plot.pivot(index='plot', columns='species', values='record_id')\n",
    "sp_plot"
   ]
  },
  {
   "cell_type": "code",
   "execution_count": null,
   "metadata": {
    "collapsed": false
   },
   "outputs": [],
   "source": [
    "my_plot=sp_plot.plot(kind='bar',stacked=True,title=\"Total counts of each species by plot\",legend=False)\n",
    "my_plot.set_xlabel(\"Plot\")\n",
    "my_plot.set_ylabel(\"Num Spp\")"
   ]
  },
  {
   "cell_type": "markdown",
   "metadata": {
    "collapsed": true
   },
   "source": [
    "### Indexing & slicing in Python\n",
    "\n",
    "We often want to work with subsets of a DataFrame object instead of the whole thing. We have been selecting single columns by name. We can also select multiple columns."
   ]
  },
  {
   "cell_type": "code",
   "execution_count": null,
   "metadata": {
    "collapsed": false
   },
   "outputs": [],
   "source": [
    "# select the species and plot columns from the DataFrame\n",
    "survey_data[['species', 'plot']]\n",
    "# what happens when you flip the order?\n",
    "survey_data[['plot', 'species']]"
   ]
  },
  {
   "cell_type": "markdown",
   "metadata": {},
   "source": [
    "Just as we did with lists in the previous lesson, we use the square brackets [] to extract a subset of a DataFrame:"
   ]
  },
  {
   "cell_type": "code",
   "execution_count": null,
   "metadata": {
    "collapsed": false
   },
   "outputs": [],
   "source": [
    "# select the first, second and third rows from the surveys variable\n",
    "survey_data[0:3]\n",
    "# select the first 5 rows (rows 0,1,2,3,4)\n",
    "print(survey_data[:5])\n",
    "# select the last element in the list\n",
    "survey_data[-1:]"
   ]
  },
  {
   "cell_type": "markdown",
   "metadata": {},
   "source": [
    "We can also use slicing to re-assign different values to some subset of the DataFrame. Like lists, DataFrames are mutable objects, meaning that they can be changed in place. \n",
    "\n",
    "### Detour to 04-data structures "
   ]
  },
  {
   "cell_type": "markdown",
   "metadata": {},
   "source": [
    "Before continuing, let's make a copy of our DataFrame to play with so we don't accidentally modify the original imported data."
   ]
  },
  {
   "cell_type": "code",
   "execution_count": null,
   "metadata": {
    "collapsed": true
   },
   "outputs": [],
   "source": [
    "# copy the surveys dataframe so we don't modify the original DataFrame\n",
    "surveys_copy = survey_data.copy()\n",
    "\n",
    "# set the first three rows of data in the DataFrame to 0\n",
    "surveys_copy[0:3] = 0"
   ]
  },
  {
   "cell_type": "markdown",
   "metadata": {},
   "source": [
    "### Slicing subsets of rows and columns in Python\n",
    "\n",
    "We can select specific ranges of our data in both the row and column directions using either label or integer-based indexing. We have to use one of two methods, depending on what we use as indices:\n",
    "\n",
    "`loc`: indexing via labels  \n",
    "`iloc`: indexing via integers\n",
    "\n",
    "To select a subset of rows AND columns from our DataFrame, we can use the iloc method. For example, we can select month, day and year (columns 2, 3 and 4 if we start counting at 1), like this:"
   ]
  },
  {
   "cell_type": "code",
   "execution_count": null,
   "metadata": {
    "collapsed": false
   },
   "outputs": [],
   "source": [
    "surveys_copy.iloc[0:3, 1:4]"
   ]
  },
  {
   "cell_type": "markdown",
   "metadata": {},
   "source": [
    "Notice that we asked for a slice from 0:3 and this yielded 3 rows of data. When you ask for 0:3, you are actually telling python to start at index 0 and select rows 0, 1, 2 up to but not including 3.\n",
    "\n",
    "Let's explore some other ways to index and select subsets of data:"
   ]
  },
  {
   "cell_type": "code",
   "execution_count": null,
   "metadata": {
    "collapsed": false
   },
   "outputs": [],
   "source": [
    "# select all columns for rows of index values 0 and 10\n",
    "surveys_copy.loc[[0,10], :]"
   ]
  },
  {
   "cell_type": "code",
   "execution_count": null,
   "metadata": {
    "collapsed": false
   },
   "outputs": [],
   "source": [
    "# select only three columns of the first row\n",
    "surveys_copy.loc[0, ['species', 'plot', 'wgt']]"
   ]
  },
  {
   "cell_type": "markdown",
   "metadata": {},
   "source": [
    "Subsetting Data Using Criteria\n",
    "\n",
    "We can also select a subset of our data using some criteria. For example, we can select all rows that have a year value of 2002:"
   ]
  },
  {
   "cell_type": "code",
   "execution_count": null,
   "metadata": {
    "collapsed": false
   },
   "outputs": [],
   "source": [
    "surveys_copy[surveys_copy.year == 2002]"
   ]
  },
  {
   "cell_type": "markdown",
   "metadata": {},
   "source": [
    "We can also select all rows that do not contain the year 2002."
   ]
  },
  {
   "cell_type": "code",
   "execution_count": null,
   "metadata": {
    "collapsed": true
   },
   "outputs": [],
   "source": [
    "surveys_copy[surveys_copy.year != 2002]"
   ]
  },
  {
   "cell_type": "markdown",
   "metadata": {},
   "source": [
    "We can use sets of multiple criteria, too:"
   ]
  },
  {
   "cell_type": "code",
   "execution_count": null,
   "metadata": {
    "collapsed": false
   },
   "outputs": [],
   "source": [
    "surveys_copy[(surveys_copy.year >= 1980) & (surveys_copy.year <= 1985)]"
   ]
  },
  {
   "cell_type": "markdown",
   "metadata": {},
   "source": [
    "### Challenge\n",
    "\n",
    "* How many samples contain data from the year 1999 and have weight values less than or equal to 8?\n",
    "\n",
    "You can use the `isin` method in Python to query a DataFrame based upon a list of values like this:\n",
    "dataframe[dataframe['col name'].isin([listGoesHere])]\n",
    "\n",
    "* How many samples contain species of sex \"Z\" or sex \"R\" or sex \"P\" in the survey?\n",
    "\n",
    "* Selects all rows that are not of sex \"M\" or \"F\" in the data."
   ]
  },
  {
   "cell_type": "code",
   "execution_count": null,
   "metadata": {
    "collapsed": false
   },
   "outputs": [],
   "source": [
    "print(len(survey_data[survey_data['species'].isin(['DM','AB'])]))\n",
    "survey_data[(survey_data.sex != 'M') & (survey_data.sex !='F')]"
   ]
  },
  {
   "cell_type": "markdown",
   "metadata": {},
   "source": [
    "### Using Masks\n",
    "\n",
    "A mask can be useful to locate where a particular subset of values exist or don't exist. Masks are BOOLEAN objects. Booleans can only take the values of true or false:"
   ]
  },
  {
   "cell_type": "markdown",
   "metadata": {},
   "source": [
    "When Python creates a mask, it performs the comparison operation for each value in the object. The mask is a new object that is the same shape as the original object but with a True or False value for each index location.\n",
    "\n",
    "Let's identify all locations in the survey data that have null (missing or NaN, for Not-a-Number) data values. We can use the `isnull` method to do this. Each cell that has a null value will be assigned a value of True in the new mask:"
   ]
  },
  {
   "cell_type": "code",
   "execution_count": null,
   "metadata": {
    "collapsed": false
   },
   "outputs": [],
   "source": [
    "pd.isnull(surveys_copy)"
   ]
  },
  {
   "cell_type": "markdown",
   "metadata": {},
   "source": [
    "To select the rows where there are null values, we can use the mask as an index to subset the data:"
   ]
  },
  {
   "cell_type": "code",
   "execution_count": null,
   "metadata": {
    "collapsed": false
   },
   "outputs": [],
   "source": [
    "# Use the .any method to select the rows (axis=1) with one or more NaN\n",
    "survey_nan=pd.isnull(surveys_copy)\n",
    "surveys_copy[survey_nan.any(axis=1)]"
   ]
  },
  {
   "cell_type": "markdown",
   "metadata": {},
   "source": [
    "Note that there are many null or NaN values in the wgt column of our DataFrame. We will explore different ways of dealing with these later.\n",
    "\n",
    "We can also run `isnull` on a particular column. We are using the Boolean object as an index and then asking python to select rows that have a NaN value for weight:"
   ]
  },
  {
   "cell_type": "code",
   "execution_count": null,
   "metadata": {
    "collapsed": false
   },
   "outputs": [],
   "source": [
    "survey_data[survey_data.wgt.isnull()]"
   ]
  },
  {
   "cell_type": "markdown",
   "metadata": {},
   "source": [
    "### Challenge\n",
    "\n",
    "* Create a new DataFrame that only contains observations with sex values that are not female or male. \n",
    "* Assign each sex value in the new DataFrame to a new value of 'x'. \n",
    "* Determine the number of null values in the subset.\n",
    "* Create a new DataFrame that contains only observations that are of sex male or female and where weight values are greater than 0. \n",
    "* Create a stacked bar plot of average weight by plot with male vs female values stacked for each plot."
   ]
  },
  {
   "cell_type": "markdown",
   "metadata": {},
   "source": [
    "### Where Are the NaN's?\n",
    "\n",
    "Let's explore the NaN values in our data a bit further. We can use the tools we learned so far to figure out how many rows contain NaN values for weight. "
   ]
  },
  {
   "cell_type": "code",
   "execution_count": null,
   "metadata": {
    "collapsed": false
   },
   "outputs": [],
   "source": [
    "len(surveys_copy[pd.isnull(surveys_copy.wgt)])"
   ]
  },
  {
   "cell_type": "markdown",
   "metadata": {},
   "source": [
    "We can also create a new subset from our data that only contains rows with weight values > 0 (ie. select meaningful weight values)."
   ]
  },
  {
   "cell_type": "code",
   "execution_count": null,
   "metadata": {
    "collapsed": false
   },
   "outputs": [],
   "source": [
    "survey_wgt = surveys_copy[surveys_copy.wgt> 0]\n",
    "len(survey_wgt) # how many rows have wgt values?"
   ]
  },
  {
   "cell_type": "markdown",
   "metadata": {},
   "source": [
    "We should make conscious decisions about how to manage missing data. This is where we think about how our data will be used and how these values will impact the scientific conclusions made from the data. Should we remove these data? Should we replace NaN with 0? or with the mean value?\n",
    "\n",
    "### Writing filtered data\n",
    "\n",
    "As we begin to filter data we might be interested in writing those files separately"
   ]
  },
  {
   "cell_type": "code",
   "execution_count": null,
   "metadata": {
    "collapsed": true
   },
   "outputs": [],
   "source": [
    "# Select only data for 2002\n",
    "surveys2000 = survey_data[survey_data.year == 2000]\n",
    "\n",
    "# Write the new DataFrame to a csv file\n",
    "surveys2000.to_csv('surveys2002.csv')"
   ]
  },
  {
   "cell_type": "markdown",
   "metadata": {},
   "source": [
    "### Challenge\n",
    "\n",
    "Write separate files for each year of the data"
   ]
  },
  {
   "cell_type": "code",
   "execution_count": null,
   "metadata": {
    "collapsed": false
   },
   "outputs": [],
   "source": [
    "for year in range(survey_data.year.min(),survey_data.year.max()+1):\n",
    "    survey_year = survey_data[survey_data.year == year]\n",
    "    survey_year.to_csv('surveys'+str(year)+'.csv')\n",
    "\n",
    "for year in list(survey_data.year.unique()):\n",
    "    survey_year = survey_data[survey_data.year == year]\n",
    "    survey_year.to_csv('surveys'+str(year)+'.csv')"
   ]
  },
  {
   "cell_type": "markdown",
   "metadata": {},
   "source": [
    "## Joining data\n",
    "\n",
    "We can combine information on our surveys with information on the species that were found (for which we currently only have codes). We combine DataFrames using columns in each dataset that contain common values (a common unique id) as a guide. Combining DataFrames using a common field is called \"joining\". The columns containing the common values are called \"join key(s)\". Joining DataFrames in this way is often useful when one DataFrame is a \"lookup table\" containing additional data that we want to include in the other.\n",
    "\n",
    "NOTE: This process of joining tables is similar to what we do with tables in an SQL database.\n",
    "\n",
    "For example, the species.csv file that we've been working with is a lookup table. This table contains the genus, species, and taxon code for 55 species. The species code is unique for each line. These species are identified in our survey data as well using the unique species code. Rather than adding 3 more columns for the genus, species and taxa to each of the 35,549 line Survey data table, we can maintain the shorter table with the species information. When we want to access that information, we can create a query that joins the additional columns of information to the survey data."
   ]
  },
  {
   "cell_type": "code",
   "execution_count": null,
   "metadata": {
    "collapsed": false
   },
   "outputs": [],
   "source": [
    "#get species info\n",
    "!curl -O https://raw.githubusercontent.com/mperignon/python-lessons/gh-pages/data/species.csv"
   ]
  },
  {
   "cell_type": "code",
   "execution_count": 3,
   "metadata": {
    "collapsed": false
   },
   "outputs": [],
   "source": [
    "spp = pd.read_csv('species.csv', keep_default_na=False, na_values=[\"\"])"
   ]
  },
  {
   "cell_type": "markdown",
   "metadata": {},
   "source": [
    "Take note that the read_csv method we used can take some additional options which we didn't use previously. Many functions in python have a set of options that can be set by the user if needed. In this case, we have told Pandas to assign empty values in our CSV to NaN keep_default_na=False, na_values=[\"\"]. [http://pandas.pydata.org/pandas-docs/dev/generated/pandas.io.parsers.read_csv.html](More about all of the read_csv options here.)\n",
    "\n",
    "We can reload our survey data this way as well"
   ]
  },
  {
   "cell_type": "code",
   "execution_count": 4,
   "metadata": {
    "collapsed": true
   },
   "outputs": [],
   "source": [
    "survey_data = pd.read_csv('surveys.csv', keep_default_na=False, na_values=[\"\"])"
   ]
  },
  {
   "cell_type": "code",
   "execution_count": null,
   "metadata": {
    "collapsed": false
   },
   "outputs": [],
   "source": [
    "spp.columns"
   ]
  },
  {
   "cell_type": "code",
   "execution_count": null,
   "metadata": {
    "collapsed": false
   },
   "outputs": [],
   "source": [
    "survey_data.columns"
   ]
  },
  {
   "cell_type": "markdown",
   "metadata": {},
   "source": [
    "In our example, the join key is the column containing the two-letter species identifier, which is called species in survey_data and species_id in spp.\n",
    "\n",
    "Now that we know the fields with the common species ID attributes in each DataFrame, we are almost ready to join our data. However, since there are different types of joins, we also need to decide which type of join makes sense for our analysis.\n",
    "\n",
    "#### Inner joins\n",
    "\n",
    "The most common type of join is called an inner join. An inner join combines two DataFrames based on a join key and returns a new DataFrame that contains only those rows that have matching values in both of the original DataFrames.\n",
    "\n",
    "Inner joins yield a DataFrame that contains only rows where the value being joins exists in BOTH tables.\n",
    "\n",
    "The pandas function for performing joins is called merge and an Inner join is the default option:"
   ]
  },
  {
   "cell_type": "code",
   "execution_count": 5,
   "metadata": {
    "collapsed": false
   },
   "outputs": [
    {
     "name": "stdout",
     "output_type": "stream",
     "text": [
      "35549\n"
     ]
    },
    {
     "data": {
      "text/plain": [
       "34786"
      ]
     },
     "execution_count": 5,
     "metadata": {},
     "output_type": "execute_result"
    }
   ],
   "source": [
    "merged_inner = pd.merge(left=survey_data,right=spp, left_on='species', right_on='species_id')\n",
    "\n",
    "print(len(survey_data))\n",
    "len(merged_inner)"
   ]
  },
  {
   "cell_type": "markdown",
   "metadata": {},
   "source": [
    "The result of an inner join is a new DataFrame that contains the combined set of columns. It only contains rows that have two-letter species codes that are the same in both the DataFrames. In other words, if a row in survey has a value of species that does not appear in the species_id column of spp, it will not be included in the DataFrame returned by an inner join. Similarly, if a row in spp has a value of species_id that does not appear in the species column of survey, that row will not be included in the DataFrame returned by an inner join.\n",
    "\n",
    "The two DataFrames that we want to join are passed to the merge function using the left and right argument. The left_on='species' argument tells merge to use the species column as the join key from survey (the left DataFrame). Similarly , the right_on='species_id' argument tells merge to use the species_id column as the join key from spp (the right DataFrame). For inner joins, the order of the left and right arguments does not matter.\n",
    "\n",
    "The result merged_inner DataFrame contains all of the columns from survey (record id, month, day, etc.) as well as all the columns from spp (species id, genus, species, and taxa). Because both original DataFrames contain a column named species, pandas automatically appends a_x to the column name from the left DataFrame and a_y to the column name from the right DataFrame.\n",
    "\n",
    "Notice that merged_inner has fewer rows than survey. This is an indication that there were rows in survey with value(s) for species that do not exist as value(s) for species_id in spp.\n",
    "\n"
   ]
  },
  {
   "cell_type": "markdown",
   "metadata": {},
   "source": [
    "#### Left joins\n",
    "\n",
    "What if we want to add information from species to survey without losing any of the information from survey? In this case, we use a different type of join called a \"left outer join\", or a \"left join\".\n",
    "\n",
    "Like an inner join, a left join uses join keys to combine two DataFrames. Unlike an inner join, a left join will return all of the rows from the left DataFrame, even those rows whose join key(s) do not have values in the right DataFrame. Rows in the left DataFrame that are missing values for the join key(s) in the right DataFrame will simply have null (i.e., NaN or None) values for those columns in the resulting joined DataFrame.\n",
    "\n",
    "Note: a left join will still discard rows from the right DataFrame that do not have values for the join key(s) in the left DataFrame.\n",
    "\n",
    "A left join is performed in pandas by calling the same merge function used for inner join, but using the how='left' argument:"
   ]
  },
  {
   "cell_type": "code",
   "execution_count": 6,
   "metadata": {
    "collapsed": false
   },
   "outputs": [
    {
     "name": "stdout",
     "output_type": "stream",
     "text": [
      "35549\n"
     ]
    },
    {
     "data": {
      "text/plain": [
       "35549"
      ]
     },
     "execution_count": 6,
     "metadata": {},
     "output_type": "execute_result"
    }
   ],
   "source": [
    "merged_left = pd.merge(left=survey_data,right=spp, how='left', left_on='species', right_on='species_id')\n",
    "\n",
    "print(len(survey_data))\n",
    "len(merged_left)"
   ]
  },
  {
   "cell_type": "markdown",
   "metadata": {},
   "source": [
    "The result DataFrame from a left join (merged_left) looks very much like the result DataFrame from an inner join (merged_inner) in terms of the columns it contains. However, unlike merged_inner, merged_left contains the same number of rows as the original surveysSub DataFrame. When we inspect merged_left, we find there are rows where the information that should have come from speciesSub (i.e., species_id, genus, species_y, and taxa) is missing (they contain NaN values):"
   ]
  },
  {
   "cell_type": "code",
   "execution_count": null,
   "metadata": {
    "collapsed": false
   },
   "outputs": [],
   "source": [
    "merged_left[ pd.isnull(merged_left.species_id) ]"
   ]
  },
  {
   "cell_type": "markdown",
   "metadata": {},
   "source": [
    "These rows are the ones where the value of species from survey (in this case, NaN) does not occur in species."
   ]
  },
  {
   "cell_type": "markdown",
   "metadata": {},
   "source": [
    "The pandas merge function supports two other join types:\n",
    "\n",
    "#### Right (outer) join\n",
    "Invoked by passing how='right' as an argument. Similar to a left join, except all rows from the right DataFrame are kept, while rows from the left DataFrame without matching join key(s) values are discarded.\n",
    "\n",
    "#### Full (outer) join: \n",
    "Invoked by passing how='outer' as an argument. This join type returns the all pairwise combinations of rows from both DataFrames; i.e., the result DataFrame will contain rows (left_1, right_1), (left_1, right_2), (left_2, right_1), (left_2, right_2), etc. This join type is very rarely used."
   ]
  },
  {
   "cell_type": "markdown",
   "metadata": {},
   "source": [
    "### Challenge\n",
    "\n",
    "* Calculate and plot the distribution of taxa by plot\n",
    "* Obtain the file containing information about treatment used on each plot."
   ]
  },
  {
   "cell_type": "code",
   "execution_count": null,
   "metadata": {
    "collapsed": false
   },
   "outputs": [],
   "source": [
    "!curl -O https://raw.githubusercontent.com/mperignon/python-lessons/gh-pages/data/plots.csv"
   ]
  },
  {
   "cell_type": "markdown",
   "metadata": {},
   "source": [
    "* Make separate plots for taxa for control vs rodent exclosure plots. \n",
    "\n",
    "* Plot the biodiversity of control vs rodent exclosure plots. \n",
    "\n",
    "Biodiversity index = number of species in the plot / total number of individuals in the plot"
   ]
  },
  {
   "cell_type": "code",
   "execution_count": 11,
   "metadata": {
    "collapsed": false
   },
   "outputs": [
    {
     "data": {
      "text/plain": [
       "<matplotlib.text.Text at 0x117818d68>"
      ]
     },
     "execution_count": 11,
     "metadata": {},
     "output_type": "execute_result"
    },
    {
     "data": {
      "image/png": "[encoded data removed]",
      "text/plain": [
       "<matplotlib.figure.Figure at 0x1121cedd8>"
      ]
     },
     "metadata": {},
     "output_type": "display_data"
    }
   ],
   "source": [
    "taxa_plot=merged_left.groupby(['taxa','plot'], as_index=False).record_id.count()\n",
    "taxa_plot=taxa_plot.pivot(index='plot', columns='taxa', values='record_id')\n",
    "my_plot=taxa_plot.plot(kind='bar',stacked=True,title=\"Total counts of each taxa by plot\")\n",
    "my_plot.set_xlabel(\"Plot\")\n",
    "my_plot.set_ylabel(\"Num Spp\")"
   ]
  },
  {
   "cell_type": "code",
   "execution_count": 12,
   "metadata": {
    "collapsed": false
   },
   "outputs": [
    {
     "name": "stdout",
     "output_type": "stream",
     "text": [
      "Index(['record_id', 'month', 'day', 'year', 'plot', 'species_x', 'sex', 'wgt',\n",
      "       'species_id', 'genus', 'species_y', 'taxa'],\n",
      "      dtype='object')\n"
     ]
    },
    {
     "data": {
      "text/plain": [
       "Index(['plot_id', 'plot_type'], dtype='object')"
      ]
     },
     "execution_count": 12,
     "metadata": {},
     "output_type": "execute_result"
    }
   ],
   "source": [
    "plot_info = pd.read_csv('plots.csv')\n",
    "print(merged_left.columns)\n",
    "plot_info.columns\n"
   ]
  },
  {
   "cell_type": "code",
   "execution_count": 13,
   "metadata": {
    "collapsed": true
   },
   "outputs": [],
   "source": [
    "with_plot_info = pd.merge(left=merged_left,right=plot_info, left_on='plot', right_on='plot_id')"
   ]
  },
  {
   "cell_type": "code",
   "execution_count": null,
   "metadata": {
    "collapsed": false
   },
   "outputs": [],
   "source": [
    "plot_info.plot_type.unique()"
   ]
  },
  {
   "cell_type": "code",
   "execution_count": 14,
   "metadata": {
    "collapsed": false
   },
   "outputs": [
    {
     "data": {
      "text/plain": [
       "<matplotlib.text.Text at 0x117797128>"
      ]
     },
     "execution_count": 14,
     "metadata": {},
     "output_type": "execute_result"
    },
    {
     "data": {
      "image/png": "[encoded data removed]",
      "text/plain": [
       "<matplotlib.figure.Figure at 0x1178fbfd0>"
      ]
     },
     "metadata": {},
     "output_type": "display_data"
    }
   ],
   "source": [
    "with_plot_info1 = with_plot_info[with_plot_info['plot_type']=='Control']\n",
    "taxa_plot=with_plot_info1.groupby(['taxa','plot'], as_index=False).record_id.count()\n",
    "taxa_plot=taxa_plot.pivot(index='plot', columns='taxa', values='record_id')\n",
    "my_plot=taxa_plot.plot(kind='bar',stacked=True,title=\"Total counts of each taxon by plot\")\n",
    "my_plot.set_xlabel(\"Plot\")\n",
    "my_plot.set_ylabel(\"Num Spp\")"
   ]
  },
  {
   "cell_type": "code",
   "execution_count": 15,
   "metadata": {
    "collapsed": false
   },
   "outputs": [
    {
     "data": {
      "text/plain": [
       "<matplotlib.text.Text at 0x117cd4b38>"
      ]
     },
     "execution_count": 15,
     "metadata": {},
     "output_type": "execute_result"
    },
    {
     "data": {
      "image/png": "[encoded data removed]",
      "text/plain": [
       "<matplotlib.figure.Figure at 0x114125f98>"
      ]
     },
     "metadata": {},
     "output_type": "display_data"
    }
   ],
   "source": [
    "with_plot_info1 = with_plot_info[with_plot_info['plot_type']=='Rodent Exclosure']\n",
    "taxa_plot=with_plot_info1.groupby(['taxa','plot'], as_index=False).record_id.count()\n",
    "taxa_plot=taxa_plot.pivot(index='plot', columns='taxa', values='record_id')\n",
    "my_plot=taxa_plot.plot(kind='bar',stacked=True,title=\"Total counts of each taxon by plot\")\n",
    "my_plot.set_xlabel(\"Plot\")\n",
    "my_plot.set_ylabel(\"Num Spp\")"
   ]
  },
  {
   "cell_type": "code",
   "execution_count": 16,
   "metadata": {
    "collapsed": false
   },
   "outputs": [],
   "source": [
    "#number of species in the plot / total number of individuals in the plot\n",
    "#df1 = df1.assign(e=e.values)\n",
    "\n",
    "\n",
    "with_plot_info1 = with_plot_info[with_plot_info['plot_type']=='Rodent Exclosure']  #filter so make a copy\n",
    "taxa_plot1=with_plot_info1.groupby('plot', as_index=False).record_id.count()  #count num in plot\n",
    "taxa_plot2=with_plot_info1.groupby('plot').species_id.nunique()  #count num sp in plot\n",
    "taxa_plot2 = taxa_plot2.reset_index()\n",
    "taxa_plot3 = pd.merge(left=taxa_plot1,right=taxa_plot2, left_on='plot', right_on='plot')\n",
    "taxa_plot3 = taxa_plot3.assign(biodiv = taxa_plot3.species_id / taxa_plot3.record_id)\n"
   ]
  },
  {
   "cell_type": "code",
   "execution_count": 17,
   "metadata": {
    "collapsed": false
   },
   "outputs": [
    {
     "data": {
      "text/plain": [
       "<matplotlib.text.Text at 0x11860de10>"
      ]
     },
     "execution_count": 17,
     "metadata": {},
     "output_type": "execute_result"
    },
    {
     "data": {
      "image/png": "[encoded data removed]",
      "text/plain": [
       "<matplotlib.figure.Figure at 0x1177daa20>"
      ]
     },
     "metadata": {},
     "output_type": "display_data"
    }
   ],
   "source": [
    "my_plot=taxa_plot3.biodiv.plot(kind='bar',title=\"Biodiversity by plot\")\n",
    "my_plot.set_xlabel(\"Plot\")\n",
    "my_plot.set_ylabel(\"Num Spp\")"
   ]
  },
  {
   "cell_type": "code",
   "execution_count": 18,
   "metadata": {
    "collapsed": false
   },
   "outputs": [
    {
     "data": {
      "text/plain": [
       "<matplotlib.text.Text at 0x1187e27b8>"
      ]
     },
     "execution_count": 18,
     "metadata": {},
     "output_type": "execute_result"
    },
    {
     "data": {
      "image/png": "[encoded data removed]",
      "text/plain": [
       "<matplotlib.figure.Figure at 0x118595128>"
      ]
     },
     "metadata": {},
     "output_type": "display_data"
    }
   ],
   "source": [
    "with_plot_info1 = with_plot_info[with_plot_info['plot_type']=='Control']  #filter so make a copy\n",
    "taxa_plot1=with_plot_info1.groupby('plot', as_index=False).record_id.count()  #count num in plot\n",
    "taxa_plot2=with_plot_info1.groupby('plot').species_id.nunique()  #count num sp in plot\n",
    "taxa_plot2 = taxa_plot2.reset_index()\n",
    "taxa_plot3 = pd.merge(left=taxa_plot1,right=taxa_plot2, left_on='plot', right_on='plot')\n",
    "taxa_plot3 = taxa_plot3.assign(biodiv = taxa_plot3.species_id / taxa_plot3.record_id)\n",
    "\n",
    "my_plot=taxa_plot3.biodiv.plot(kind='bar',title=\"Biodiversity by plot\")\n",
    "my_plot.set_xlabel(\"Plot\")\n",
    "my_plot.set_ylabel(\"Num Spp\")"
   ]
  },
  {
   "cell_type": "code",
   "execution_count": null,
   "metadata": {
    "collapsed": true
   },
   "outputs": [],
   "source": []
  }
 ],
 "metadata": {
  "anaconda-cloud": {},
  "kernelspec": {
   "display_name": "Python [conda env:py36]",
   "language": "python",
   "name": "conda-env-py36-py"
  },
  "language_info": {
   "codemirror_mode": {
    "name": "ipython",
    "version": 3
   },
   "file_extension": ".py",
   "mimetype": "text/x-python",
   "name": "python",
   "nbconvert_exporter": "python",
   "pygments_lexer": "ipython3",
   "version": "3.6.1"
  }
 },
 "nbformat": 4,
 "nbformat_minor": 1
}
