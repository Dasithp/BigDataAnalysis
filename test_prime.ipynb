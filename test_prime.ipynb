{
 "cells": [
  {
   "cell_type": "code",
   "execution_count": 1,
   "metadata": {
    "collapsed": true
   },
   "outputs": [],
   "source": [
    "def is_prime(number):\n",
    "    for element in range(1,number):  #start w 1 b/c don't divide by 0\n",
    "        if number % element == 0:\n",
    "            return False\n",
    "    return True"
   ]
  },
  {
   "cell_type": "code",
   "execution_count": 29,
   "metadata": {
    "collapsed": true
   },
   "outputs": [],
   "source": [
    "def is_prime(number):\n",
    "\n",
    "    if number <= 1:\n",
    "        return False\n",
    "    \n",
    "    for element in range(2,number):  #start w 2 b/c don't divide by 0\n",
    "        if number % element == 0:\n",
    "            return False\n",
    "    return True"
   ]
  },
  {
   "cell_type": "code",
   "execution_count": 11,
   "metadata": {
    "collapsed": false
   },
   "outputs": [],
   "source": [
    "def test_is_prime5():   # test that the prime number 5 really returns True\n",
    "    assert is_prime(5), '5 should be prime!'"
   ]
  },
  {
   "cell_type": "code",
   "execution_count": 12,
   "metadata": {
    "collapsed": true
   },
   "outputs": [],
   "source": [
    "def test_is_prime10():  # check that non-prime 10 returns False\n",
    "    assert is_prime(10) == False, '10 is not prime!'"
   ]
  },
  {
   "cell_type": "code",
   "execution_count": 13,
   "metadata": {
    "collapsed": true
   },
   "outputs": [],
   "source": [
    "def test_is_primeminus8(): # check that negs (-8) are not prime (False)\n",
    "    assert is_prime(-8) == False, 'Negatives are not prime'"
   ]
  },
  {
   "cell_type": "code",
   "execution_count": 14,
   "metadata": {
    "collapsed": true
   },
   "outputs": [],
   "source": [
    "def test_is_prime1(): # check 1 is not prime\n",
    "    assert is_prime(1) == False, '1 is not prime'"
   ]
  },
  {
   "cell_type": "code",
   "execution_count": 15,
   "metadata": {
    "collapsed": true
   },
   "outputs": [],
   "source": [
    "def test_is_prime0(): \n",
    "    assert is_prime(0) == False, '0 is not prime'"
   ]
  },
  {
   "cell_type": "code",
   "execution_count": 26,
   "metadata": {
    "collapsed": true
   },
   "outputs": [],
   "source": [
    "def test_is_primelarge():\n",
    "    assert is_prime(293)"
   ]
  },
  {
   "cell_type": "code",
   "execution_count": 27,
   "metadata": {
    "collapsed": true
   },
   "outputs": [],
   "source": [
    "def test_isprimelargenot():\n",
    "    assert is_prime(100000000000) == False"
   ]
  },
  {
   "cell_type": "code",
   "execution_count": 30,
   "metadata": {
    "collapsed": false
   },
   "outputs": [],
   "source": [
    "test_is_prime5()\n",
    "test_is_prime10()\n",
    "test_is_primeminus8()\n",
    "test_is_prime1()\n",
    "test_is_prime0()\n",
    "test_is_primelarge()\n",
    "test_isprimelargenot()"
   ]
  },
  {
   "cell_type": "code",
   "execution_count": null,
   "metadata": {
    "collapsed": true
   },
   "outputs": [],
   "source": []
  }
 ],
 "metadata": {
  "kernelspec": {
   "display_name": "Python [conda env:py36]",
   "language": "python",
   "name": "conda-env-py36-py"
  },
  "language_info": {
   "codemirror_mode": {
    "name": "ipython",
    "version": 3
   },
   "file_extension": ".py",
   "mimetype": "text/x-python",
   "name": "python",
   "nbconvert_exporter": "python",
   "pygments_lexer": "ipython3",
   "version": "3.6.1"
  }
 },
 "nbformat": 4,
 "nbformat_minor": 1
}
