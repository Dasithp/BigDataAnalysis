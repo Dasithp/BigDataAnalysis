{
 "cells": [
  {
   "cell_type": "markdown",
   "metadata": {},
   "source": [
    "## Counting patterns in data (e.g. DNA sequences)\n",
    "\n",
    "Based on your experience with the bash shell during the past two weeks you should be able to:  \n",
    "manipulate files  \n",
    "use variables  \n",
    "use loops to repeat commands  \n",
    "save a series of commands as a script and run it\n",
    "\n",
    "We will now begin using python to do more sophisticated analyses\n",
    "\n",
    "### Begin by opening the file"
   ]
  },
  {
   "cell_type": "markdown",
   "metadata": {},
   "source": [
    "You can get data the same way we did in bash. To run any bash command in a Jupyter notebook simply preface the command with !"
   ]
  },
  {
   "cell_type": "code",
   "execution_count": 1,
   "metadata": {
    "collapsed": false
   },
   "outputs": [
    {
     "name": "stdout",
     "output_type": "stream",
     "text": [
      "  % Total    % Received % Xferd  Average Speed   Time    Time     Time  Current\n",
      "                                 Dload  Upload   Total   Spent    Left  Speed\n",
      "100 21190  100 21190    0     0   267k      0 --:--:-- --:--:-- --:--:--  440k\n"
     ]
    }
   ],
   "source": [
    "!curl -O http://rachelss.github.io/Bioinformatics/sample.fastq"
   ]
  },
  {
   "cell_type": "markdown",
   "metadata": {},
   "source": [
    "Run the bash command to list files in the current folder to check it's there"
   ]
  },
  {
   "cell_type": "code",
   "execution_count": 2,
   "metadata": {
    "collapsed": false
   },
   "outputs": [
    {
     "name": "stdout",
     "output_type": "stream",
     "text": [
      "01-logisticgrowth.ipynb    fastq_stats.ipynb\r\n",
      "Untitled.ipynb             fastq_stats_old.ipynb\r\n",
      "Untitled1.ipynb            fastq_stats_test.ipynb\r\n",
      "Untitled2.ipynb            fastq_stats_tutorial.ipynb\r\n",
      "Untitled3.ipynb            python1-master.ipynb\r\n",
      "Untitled4.ipynb            python2-master.ipynb\r\n",
      "assign1.md                 sample.fastq\r\n"
     ]
    }
   ],
   "source": [
    "!ls"
   ]
  },
  {
   "cell_type": "markdown",
   "metadata": {
    "collapsed": false
   },
   "source": [
    "Specify the file using a string variable  \n",
    "Open the file  \n",
    "Read it into memory, line by line  \n",
    "This creates a list where each line is an item in that list"
   ]
  },
  {
   "cell_type": "code",
   "execution_count": 3,
   "metadata": {
    "collapsed": false
   },
   "outputs": [],
   "source": [
    "filename = 'sample.fastq'\n",
    "f = open(filename,'r')\n",
    "fastq = f.readlines()"
   ]
  },
  {
   "cell_type": "markdown",
   "metadata": {},
   "source": [
    "To show the contents of the list we can type"
   ]
  },
  {
   "cell_type": "code",
   "execution_count": null,
   "metadata": {
    "collapsed": false
   },
   "outputs": [],
   "source": [
    "print(fastq)"
   ]
  },
  {
   "cell_type": "markdown",
   "metadata": {},
   "source": [
    "Let's not do that - it could be a very long list  \n",
    "Instead, let's print the first item"
   ]
  },
  {
   "cell_type": "code",
   "execution_count": null,
   "metadata": {
    "collapsed": false
   },
   "outputs": [],
   "source": [
    "print(fastq[0])"
   ]
  },
  {
   "cell_type": "markdown",
   "metadata": {},
   "source": [
    "Notice the first item is actually given as 0"
   ]
  },
  {
   "cell_type": "markdown",
   "metadata": {},
   "source": [
    "Now let's look at the first few lines  \n",
    "In python you can specify the items in the list you want    \n",
    "In this case we'll get 0 (the first line is 0) up to (but not including) line 10  "
   ]
  },
  {
   "cell_type": "code",
   "execution_count": null,
   "metadata": {
    "collapsed": false
   },
   "outputs": [],
   "source": [
    "fastq[0:10]"
   ]
  },
  {
   "cell_type": "markdown",
   "metadata": {},
   "source": [
    "Notice each line is its own item in the list  \n",
    "Also the fastq file contains more than just the sequence  \n",
    "The sequencer stores the name of the read and the quality of each base  \n",
    "\n",
    "Let's find just the sequences - that's the 2nd line (item 1) and every fourth line after that"
   ]
  },
  {
   "cell_type": "code",
   "execution_count": null,
   "metadata": {
    "collapsed": false
   },
   "outputs": [],
   "source": [
    "print(fastq[1])\n",
    "print(fastq[5])\n",
    "print(fastq[9])"
   ]
  },
  {
   "cell_type": "markdown",
   "metadata": {},
   "source": [
    "## Challenge: what characterizes the lines with the sequences?"
   ]
  },
  {
   "cell_type": "markdown",
   "metadata": {},
   "source": [
    "Reads are on lines where:  \n",
    "the line number = 1+4n  \n",
    "or: if line number / 4 leaves a remainder of 1  \n",
    "in python we use % (modulo) to specify the remainder"
   ]
  },
  {
   "cell_type": "code",
   "execution_count": 5,
   "metadata": {
    "collapsed": false
   },
   "outputs": [
    {
     "name": "stdout",
     "output_type": "stream",
     "text": [
      "1\n",
      "1\n"
     ]
    }
   ],
   "source": [
    "print(1%4)\n",
    "print(5%4)"
   ]
  },
  {
   "cell_type": "markdown",
   "metadata": {},
   "source": [
    "Let's go through each line in the file (we'll limit it to the first 20)\n",
    "\n",
    "Remember for loops in shell? It's easier in python"
   ]
  },
  {
   "cell_type": "code",
   "execution_count": null,
   "metadata": {
    "collapsed": false
   },
   "outputs": [],
   "source": [
    "for line in fastq[0:20]:\n",
    "    pass"
   ]
  },
  {
   "cell_type": "markdown",
   "metadata": {},
   "source": [
    "pass lets us run the loops without throwing an error or doing anything inside the loop\n",
    "\n",
    "In the last loop we got the item in the line, but not the line number  \n",
    "Let's also include the line number using \"enumerate\" so we can find our sequences"
   ]
  },
  {
   "cell_type": "code",
   "execution_count": 7,
   "metadata": {
    "collapsed": false
   },
   "outputs": [],
   "source": [
    "for line_num,line in enumerate(fastq[0:20]):\n",
    "    pass"
   ]
  },
  {
   "cell_type": "markdown",
   "metadata": {},
   "source": [
    "Now we can print each sequence by checking that it's a sequence line using modulo  \n",
    "note we're using an if statement"
   ]
  },
  {
   "cell_type": "code",
   "execution_count": null,
   "metadata": {
    "collapsed": false
   },
   "outputs": [],
   "source": [
    "for line_num,line in enumerate(fastq[0:20]):\n",
    "    #if line number / 4 leaves a remainder of 1\n",
    "    if line_num%4 == 1:\n",
    "        print(line)"
   ]
  },
  {
   "cell_type": "markdown",
   "metadata": {},
   "source": [
    "Now that we can get our sequence data and we can look for patterns  \n",
    "The first pattern is just to count the number of each base  \n",
    "Before we can count them, we need to access each base\n",
    "\n",
    "## Challenge: add a line to iterate over each base in the line\n",
    "use a subset of your data to check that you are getting the expected results"
   ]
  },
  {
   "cell_type": "code",
   "execution_count": 9,
   "metadata": {
    "collapsed": false
   },
   "outputs": [],
   "source": [
    "for line_num,line in enumerate(fastq[0:20]):\n",
    "    if line_num%4 == 1:\n",
    "        for base in line:\n",
    "            pass"
   ]
  },
  {
   "cell_type": "markdown",
   "metadata": {},
   "source": [
    "Now we can access each base  \n",
    "Let's check if it's an 'A' using an if statement"
   ]
  },
  {
   "cell_type": "code",
   "execution_count": 10,
   "metadata": {
    "collapsed": false
   },
   "outputs": [],
   "source": [
    "for line_num,line in enumerate(fastq[0:20]):\n",
    "    if line_num%4 == 1:\n",
    "        for base in line:\n",
    "            if base == 'A':\n",
    "                pass"
   ]
  },
  {
   "cell_type": "markdown",
   "metadata": {},
   "source": [
    "Now let's count all the A's  \n",
    "We specify a variable for counting  \n",
    "When we're done we print the number in the acounter variable"
   ]
  },
  {
   "cell_type": "code",
   "execution_count": 12,
   "metadata": {
    "collapsed": false
   },
   "outputs": [
    {
     "name": "stdout",
     "output_type": "stream",
     "text": [
      "2517\n"
     ]
    }
   ],
   "source": [
    "acounter = 0\n",
    "for line_num,line in enumerate(fastq):\n",
    "    if line_num%4 == 1:\n",
    "        for base in line:\n",
    "            if base == 'A':\n",
    "                acounter = acounter+1\n",
    "print(acounter)   "
   ]
  },
  {
   "cell_type": "markdown",
   "metadata": {},
   "source": [
    "## Challenge: now count each of the bases"
   ]
  },
  {
   "cell_type": "code",
   "execution_count": 13,
   "metadata": {
    "collapsed": false
   },
   "outputs": [
    {
     "name": "stdout",
     "output_type": "stream",
     "text": [
      "2517 2550 2489 2444\n"
     ]
    }
   ],
   "source": [
    "acounter = 0\n",
    "ccounter = 0\n",
    "gcounter = 0\n",
    "tcounter = 0\n",
    "for line_num,line in enumerate(fastq):\n",
    "    if line_num%4 == 1:\n",
    "        for base in line:\n",
    "            if base == 'A':\n",
    "                acounter = acounter+1\n",
    "            if base == 'C':\n",
    "                ccounter = ccounter+1\n",
    "            if base == 'G':\n",
    "                gcounter = gcounter+1\n",
    "            if base == 'T':\n",
    "                tcounter = tcounter+1\n",
    "print(acounter, ccounter, gcounter, tcounter)"
   ]
  },
  {
   "cell_type": "markdown",
   "metadata": {},
   "source": [
    "That works, but it only works because we know our four bases  \n",
    "Even then, it's a lot of typing or copy / paste  \n",
    "That's prone to error  \n",
    "## Challenge: now count each of the bases using just one variable"
   ]
  },
  {
   "cell_type": "code",
   "execution_count": null,
   "metadata": {
    "collapsed": false
   },
   "outputs": [],
   "source": [
    "counter = [0,0,0,0]\n",
    "for line_num,line in enumerate(fastq):\n",
    "    if line_num%4 == 1:\n",
    "        for base in line:\n",
    "            if base == 'A':\n",
    "                counter[0] = counter[0]+1\n",
    "            if base == 'C':\n",
    "                counter[1] = counter[1]+1\n",
    "            if base == 'G':\n",
    "                counter[2] = counter[2]+1\n",
    "            if base == 'T':\n",
    "                counter[3] = counter[3]+1\n",
    "print(counter)"
   ]
  },
  {
   "cell_type": "markdown",
   "metadata": {},
   "source": [
    "Note we're checking each base four times so even if it's an 'A' we're still checking whether it's a 'C', etc.  \n",
    "Let's expand our if statement to  \n",
    "if, else if (elif), and else"
   ]
  },
  {
   "cell_type": "code",
   "execution_count": 14,
   "metadata": {
    "collapsed": false
   },
   "outputs": [
    {
     "name": "stdout",
     "output_type": "stream",
     "text": [
      "[2517, 2550, 2489, 2444]\n"
     ]
    }
   ],
   "source": [
    "counter = [0,0,0,0]\n",
    "for line_num,line in enumerate(fastq):\n",
    "    if line_num%4 == 1:\n",
    "        for base in line:\n",
    "            if base == 'A':\n",
    "                counter[0] = counter[0]+1\n",
    "            elif base == 'C':\n",
    "                counter[1] = counter[1]+1\n",
    "            elif base == 'G':\n",
    "                counter[2] = counter[2]+1\n",
    "            elif base == 'T':\n",
    "                counter[3] = counter[3]+1\n",
    "print(counter)"
   ]
  },
  {
   "cell_type": "markdown",
   "metadata": {},
   "source": [
    "That's better: we only have one variable instead of four  \n",
    "But we're still checking each base individually  \n",
    "In a minute, we're going to count 2-base patterns  \n",
    "e.g. how many 'AA' or 'AT' - there are 16 of those\n",
    "\n",
    "We've used strings and lists, now we will use a data structure called a dictionary, which looks like  \n",
    "word: definition  \n",
    "word2: definition2  \n",
    "word3: definition3  \n",
    "word4: definition4  \n",
    "\n",
    "Let's do this for our data, where the \"word\" is the base, and the \"definition\" is our count"
   ]
  },
  {
   "cell_type": "code",
   "execution_count": 16,
   "metadata": {
    "collapsed": false
   },
   "outputs": [
    {
     "data": {
      "text/plain": [
       "{'A': 0, 'C': 0, 'G': 0, 'T': 0}"
      ]
     },
     "execution_count": 16,
     "metadata": {},
     "output_type": "execute_result"
    }
   ],
   "source": [
    "{'A':0,\n",
    "'C':0,\n",
    "'G':0,\n",
    "'T':0}"
   ]
  },
  {
   "cell_type": "code",
   "execution_count": 18,
   "metadata": {
    "collapsed": false
   },
   "outputs": [
    {
     "name": "stdout",
     "output_type": "stream",
     "text": [
      "{'C': 0, 'A': 0, 'G': 0, 'T': 0}\n"
     ]
    }
   ],
   "source": [
    "counter = {'A':0,\n",
    "'C':0,\n",
    "'G':0,\n",
    "'T':0}\n",
    "\n",
    "print(counter)"
   ]
  },
  {
   "cell_type": "markdown",
   "metadata": {},
   "source": [
    "That doesn't look much different than our list  \n",
    "However, notice that each count has a label  \n",
    "As with a dictionary of words we can access our counts by the word  \n",
    "We do this in the same format as for lists, except access is by name not position in the list"
   ]
  },
  {
   "cell_type": "code",
   "execution_count": 19,
   "metadata": {
    "collapsed": false
   },
   "outputs": [
    {
     "name": "stdout",
     "output_type": "stream",
     "text": [
      "0\n"
     ]
    }
   ],
   "source": [
    "print(counter['A'])"
   ]
  },
  {
   "cell_type": "markdown",
   "metadata": {},
   "source": [
    "Let's go back to our pattern counting - now using a dictionary"
   ]
  },
  {
   "cell_type": "code",
   "execution_count": null,
   "metadata": {
    "collapsed": false
   },
   "outputs": [],
   "source": [
    "counter={'A':0,'C':0,'G':0,'T':0}\n",
    "for line_number,line in enumerate(fastq):\n",
    "    if line_number%4 == 1:\n",
    "        for base in line:\n",
    "            counter[base] = counter[base] + 1\n",
    "            \n",
    "print(counter)"
   ]
  },
  {
   "cell_type": "markdown",
   "metadata": {},
   "source": [
    "Oops - we have an error - the key is the thing we're trying to look up in the dictionary  \n",
    "In this case it's a newline character  \n",
    "You can see it when you print part of the list"
   ]
  },
  {
   "cell_type": "code",
   "execution_count": null,
   "metadata": {
    "collapsed": false
   },
   "outputs": [],
   "source": [
    "print(fastq[0:1])"
   ]
  },
  {
   "cell_type": "markdown",
   "metadata": {},
   "source": [
    "We need to \"strip\" the newline from each line  \n",
    "For example"
   ]
  },
  {
   "cell_type": "code",
   "execution_count": null,
   "metadata": {
    "collapsed": false
   },
   "outputs": [],
   "source": [
    "for line in fastq[0:2]:\n",
    "    print(line)\n",
    "    print(line.rstrip())"
   ]
  },
  {
   "cell_type": "code",
   "execution_count": null,
   "metadata": {
    "collapsed": false
   },
   "outputs": [],
   "source": [
    "counter={'A':0,'C':0,'G':0,'T':0}\n",
    "for line_number,line in enumerate(fastq):\n",
    "    #if it's a sequencing read: if it's line 1+4n: if line number / 4 leaves a remainder of 1\n",
    "    if line_number%4==1:\n",
    "        line=line.rstrip()\n",
    "        for base in line:\n",
    "            counter[base]+=1\n",
    "            \n",
    "print(counter)"
   ]
  },
  {
   "cell_type": "markdown",
   "metadata": {},
   "source": [
    "Now we can count the number of each base  \n",
    "\n",
    "## Challenge: modify the script to count each pair of bases e.g. 'CG'  \n",
    "hint: first modify your script to access the base by its position"
   ]
  },
  {
   "cell_type": "markdown",
   "metadata": {},
   "source": [
    "### Common difficulties with this challenge:  \n",
    "How do you get the two-base string?  \n",
    "- Did you add the current base to the next base?\n",
    "- Do you use the index of the current base to access a range of bases in the line? Did you remember ranges are non-inclusive?  \n",
    "\n",
    "How do you handle the last base in the line, which has no next base?"
   ]
  },
  {
   "cell_type": "markdown",
   "metadata": {},
   "source": [
    "## Challenge: Count pairs of bases assuming you don't know in advance the possible pairs  \n",
    "i.e. the dictionary should start out empty"
   ]
  },
  {
   "cell_type": "markdown",
   "metadata": {},
   "source": [
    "### Common difficulties with this challenge:  \n",
    "How to check if a \"key\" is in the dictionary  \n",
    "How to insert a new \"key\":\"value\" pair in the dictionary\n",
    "\n",
    "## Challenge: Make it possible to count kmers of any length by changing the value of a variable"
   ]
  }
 ],
 "metadata": {
  "anaconda-cloud": {},
  "kernelspec": {
   "display_name": "Python [default]",
   "language": "python",
   "name": "python2"
  },
  "language_info": {
   "codemirror_mode": {
    "name": "ipython",
    "version": 2
   },
   "file_extension": ".py",
   "mimetype": "text/x-python",
   "name": "python",
   "nbconvert_exporter": "python",
   "pygments_lexer": "ipython2",
   "version": "2.7.12"
  }
 },
 "nbformat": 4,
 "nbformat_minor": 0
}
